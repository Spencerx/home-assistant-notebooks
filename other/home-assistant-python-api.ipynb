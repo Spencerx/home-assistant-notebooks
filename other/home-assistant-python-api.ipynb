{
 "cells": [
  {
   "cell_type": "markdown",
   "metadata": {},
   "source": [
    "## Using the Home Assistant Python API\n",
    "This notebook shows how you can work the [Home Assistant Python API](https://home-assistant.io/developers/python_api/) inside a Jupyter notebook."
   ]
  },
  {
   "cell_type": "markdown",
   "metadata": {},
   "source": [
    "### Setup"
   ]
  },
  {
   "cell_type": "code",
   "execution_count": 1,
   "metadata": {},
   "outputs": [],
   "source": [
    "import homeassistant.remote as remote"
   ]
  },
  {
   "cell_type": "code",
   "execution_count": 2,
   "metadata": {},
   "outputs": [],
   "source": [
    "HOST = '127.0.0.1'\n",
    "PASSWORD = 'YOUR_PASSWORD'\n",
    "\n",
    "api = remote.API(HOST, PASSWORD)"
   ]
  },
  {
   "cell_type": "markdown",
   "metadata": {},
   "source": [
    "### Validation of the API is ready to use"
   ]
  },
  {
   "cell_type": "code",
   "execution_count": 3,
   "metadata": {},
   "outputs": [
    {
     "name": "stdout",
     "output_type": "stream",
     "text": [
      "ok\n"
     ]
    }
   ],
   "source": [
    "print(remote.validate_api(api))"
   ]
  },
  {
   "cell_type": "markdown",
   "metadata": {},
   "source": [
    "### Retrieve the configuration\n",
    "The Home Assistant Python API is not complete. Think of it as a sub-set of the [RESTful API](https://home-assistant.io/developers/rest_api/). This means that if a certain option is not available you can use Python's `requests` module to retrieve the data. "
   ]
  },
  {
   "cell_type": "markdown",
   "metadata": {},
   "source": [
    "`remote.get_config(api)` is available to get the configuration details about a Home Assistant instance."
   ]
  },
  {
   "cell_type": "code",
   "execution_count": 4,
   "metadata": {},
   "outputs": [
    {
     "name": "stdout",
     "output_type": "stream",
     "text": [
      "{'components': {'sun', 'python_script', 'group', 'light.tradfri', 'config.core', 'binary_sensor', 'discovery', 'automation', 'frontend', 'input_boolean', 'binary_sensor.mqtt', 'sensor.random', 'http', 'config.script', 'config.automation', 'light', 'telegram_bot', 'switch', 'updater', 'tradfri', 'config.group', 'logbook', 'api', 'conversation', 'weather', 'sensor.cpuspeed', 'config', 'history', 'config.customize', 'sensor', 'binary_sensor.template', 'mqtt', 'notify', 'websocket_api', 'switch.mqtt', 'weather.zamg', 'recorder'}, 'config_dir': '/home/fab/.homeassistant', 'elevation': 560, 'latitude': 46.9509, 'location_name': 'Home', 'longitude': 7.4463, 'time_zone': 'Europe/Zurich', 'unit_system': {'length': 'km', 'mass': 'g', 'temperature': '°C', 'volume': 'L'}, 'version': '0.53.0.dev0', 'whitelist_external_dirs': ['/home/fab/.homeassistant/www', '/home/fab/.homeassistant/']}\n"
     ]
    }
   ],
   "source": [
    "print(remote.get_config(api))"
   ]
  },
  {
   "cell_type": "markdown",
   "metadata": {},
   "source": [
    "The same details can be retrieved from the [RESTful API](https://home-assistant.io/developers/rest_api/)."
   ]
  },
  {
   "cell_type": "code",
   "execution_count": 5,
   "metadata": {},
   "outputs": [
    {
     "name": "stdout",
     "output_type": "stream",
     "text": [
      "{'components': ['group', 'recorder', 'config.customize', 'sensor.random', 'python_script', 'api', 'updater', 'config.group', 'config', 'http', 'config.automation', 'light', 'notify', 'frontend', 'weather.zamg', 'binary_sensor.template', 'weather', 'sensor.cpuspeed', 'history', 'light.tradfri', 'binary_sensor', 'sensor', 'mqtt', 'telegram_bot', 'binary_sensor.mqtt', 'logbook', 'websocket_api', 'switch.mqtt', 'sun', 'tradfri', 'discovery', 'automation', 'conversation', 'config.script', 'config.core', 'switch', 'input_boolean'], 'config_dir': '/home/fab/.homeassistant', 'elevation': 560, 'latitude': 46.9509, 'location_name': 'Home', 'longitude': 7.4463, 'time_zone': 'Europe/Zurich', 'unit_system': {'length': 'km', 'mass': 'g', 'temperature': '°C', 'volume': 'L'}, 'version': '0.53.0.dev0', 'whitelist_external_dirs': ['/home/fab/.homeassistant/www', '/home/fab/.homeassistant/']}\n"
     ]
    }
   ],
   "source": [
    "import requests\n",
    "\n",
    "url = 'http://{}:8123/api/{}'.format(HOST, 'config')\n",
    "headers = {\n",
    "    'x-ha-access': PASSWORD,\n",
    "    'content-type': 'application/json',\n",
    "}\n",
    "\n",
    "config = requests.get(url, headers=headers).json()\n",
    "print(config)"
   ]
  },
  {
   "cell_type": "markdown",
   "metadata": {},
   "source": [
    "### Display the current location"
   ]
  },
  {
   "cell_type": "code",
   "execution_count": 6,
   "metadata": {},
   "outputs": [
    {
     "data": {
      "text/plain": [
       "Location(NMS Bern - Schulanlage Aarhof, Langmauerweg, Gelbes Quartier, Stadtteil I, Bern, Verwaltungskreis Bern-Mittelland, Verwaltungsregion Bern-Mittelland, Bern/Berne, 3011, Schweiz/Suisse/Svizzera/Svizra, (46.95047795, 7.44604083152511, 0.0))"
      ]
     },
     "execution_count": 6,
     "metadata": {},
     "output_type": "execute_result"
    }
   ],
   "source": [
    "# This requires that geopy is installed, eg. pip3 install geopy\n",
    "from geopy.geocoders import Nominatim\n",
    "\n",
    "geolocator = Nominatim()\n",
    "location = geolocator.reverse(\"{}, {}\".format(config.get('latitude'), config.get('longitude')))\n",
    "location"
   ]
  },
  {
   "cell_type": "code",
   "execution_count": 7,
   "metadata": {},
   "outputs": [],
   "source": [
    "factor = 0.001\n",
    "box = ((config.get('latitude') - factor, config.get('longitude') - factor),\n",
    "       (config.get('latitude') + factor, config.get('longitude') + factor))\n",
    "marker = (config.get('latitude'), config.get('longitude'))\n",
    "\n",
    "url = '{0}/export/embed.html?bbox={1}%2C{2}%2C{3}%2C{4}&amp;layer=mapnik&amp;marker={5}%2C{6}'.format(\n",
    "            'https://www.openstreetmap.org', box[0][1], box[0][0], box[1][1], box[1][0], marker[0], marker[1])"
   ]
  },
  {
   "cell_type": "code",
   "execution_count": 8,
   "metadata": {
    "collapsed": true
   },
   "outputs": [],
   "source": [
    "iframe = '<iframe width=\"720\" height=\"280\" frameborder=\"0\" scrolling=\"no\" marginheight=\"0\" marginwidth=\"0\" src={} style=\"border: 1px solid black\"></iframe>'.format(url)"
   ]
  },
  {
   "cell_type": "code",
   "execution_count": 9,
   "metadata": {
    "scrolled": true
   },
   "outputs": [
    {
     "data": {
      "text/html": [
       "<iframe width=\"720\" height=\"280\" frameborder=\"0\" scrolling=\"no\" marginheight=\"0\" marginwidth=\"0\" src=https://www.openstreetmap.org/export/embed.html?bbox=7.4453%2C46.9499%2C7.4473%2C46.951899999999995&amp;layer=mapnik&amp;marker=46.9509%2C7.4463 style=\"border: 1px solid black\"></iframe>"
      ],
      "text/plain": [
       "<IPython.core.display.HTML object>"
      ]
     },
     "metadata": {},
     "output_type": "display_data"
    }
   ],
   "source": [
    "from IPython.display import display, HTML\n",
    "display(HTML(iframe))"
   ]
  },
  {
   "cell_type": "markdown",
   "metadata": {},
   "source": [
    "There is also a so-called `magics` present for HTML. This will allow us to include a IFRAME as well. "
   ]
  },
  {
   "cell_type": "markdown",
   "metadata": {},
   "source": [
    "### Display the state of an entity"
   ]
  },
  {
   "cell_type": "code",
   "execution_count": 10,
   "metadata": {
    "collapsed": true
   },
   "outputs": [],
   "source": [
    "cpu = remote.get_state(api, 'sensor.cpu_speed')"
   ]
  },
  {
   "cell_type": "code",
   "execution_count": 11,
   "metadata": {},
   "outputs": [
    {
     "name": "stdout",
     "output_type": "stream",
     "text": [
      "<state sensor.cpu_speed=0.5; Brand=Intel(R) Core(TM) i5-6200U CPU @ 2.30GHz, GHz Advertised=2.3, arch=X86_64, friendly_name=CPU speed, icon=mdi:pulse, unit_of_measurement=GHz @ 2017-08-27T07:24:09.399393+00:00>\n"
     ]
    }
   ],
   "source": [
    "print(cpu)"
   ]
  },
  {
   "cell_type": "code",
   "execution_count": 12,
   "metadata": {},
   "outputs": [
    {
     "name": "stdout",
     "output_type": "stream",
     "text": [
      "CPU speed is 0.5 GHz.\n"
     ]
    }
   ],
   "source": [
    "print('{} is {} {}.'.format(cpu.attributes['friendly_name'],\n",
    "                            cpu.state,\n",
    "                            cpu.attributes['unit_of_measurement']\n",
    "                            )\n",
    "      )"
   ]
  }
 ],
 "metadata": {
  "kernelspec": {
   "display_name": "Python 3",
   "language": "python",
   "name": "python3"
  },
  "language_info": {
   "codemirror_mode": {
    "name": "ipython",
    "version": 3
   },
   "file_extension": ".py",
   "mimetype": "text/x-python",
   "name": "python",
   "nbconvert_exporter": "python",
   "pygments_lexer": "ipython3",
   "version": "3.6.2"
  }
 },
 "nbformat": 4,
 "nbformat_minor": 1
}
